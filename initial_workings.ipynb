{
 "cells": [
  {
   "cell_type": "code",
   "execution_count": null,
   "metadata": {},
   "outputs": [],
   "source": [
    "from Utils import supplier_config"
   ]
  }
 ],
 "metadata": {
  "kernelspec": {
   "display_name": "EnergyTracker",
   "language": "python",
   "name": "python3"
  },
  "language_info": {
   "name": "python",
   "version": "3.11.0"
  },
  "orig_nbformat": 4,
  "vscode": {
   "interpreter": {
    "hash": "c09559ec1957bad24cbdf6d0e4dc29e71793631a69b53e29587a7012fb7fbf7c"
   }
  }
 },
 "nbformat": 4,
 "nbformat_minor": 2
}
